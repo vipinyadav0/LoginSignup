{
  "cells": [
    {
      "cell_type": "code",
      "execution_count": null,
      "metadata": {
        "id": "QFxSYm4At4Ax"
      },
      "outputs": [],
      "source": []
    },
    {
      "cell_type": "markdown",
      "metadata": {
        "id": "AlkpSCZAt7FZ"
      },
      "source": [
        "# Find the Closet number"
      ]
    },
    {
      "cell_type": "code",
      "execution_count": 2,
      "metadata": {
        "id": "dmnpfVHiuEPd"
      },
      "outputs": [
        {
          "name": "stdout",
          "output_type": "stream",
          "text": [
            "8\n"
          ]
        }
      ],
      "source": [
        "def find_closest_num(arr:list, target:int):\n",
        "      \n",
        "      min_diff = float('inf')\n",
        "      low = 0\n",
        "      high = len(arr) -1\n",
        "      closest_num = None\n",
        "\n",
        "      if len(arr) == 0:\n",
        "            \n",
        "            return None\n",
        "      if len(arr) == 1:\n",
        "            return arr[0]\n",
        "      if target < arr[0]:\n",
        "            return arr[0]\n",
        "      if target > arr[-1]:\n",
        "            return arr[-1]\n",
        "      while low < high:\n",
        "            \n",
        "            mid = (low+high)//2\n",
        "            if mid+1 < len(arr):\n",
        "                  min_diff_right = abs(arr[mid + 1] - target)\n",
        "            if mid > 0:\n",
        "                  min_diff_left = abs(arr[mid - 1] - target)\n",
        "\n",
        "            if min_diff_left < min_diff:\n",
        "                  min_diff = min_diff_left\n",
        "                  closest_num = arr[mid - 1]\n",
        "\n",
        "            if min_diff_right < min_diff:\n",
        "                  min_diff = min_diff_right\n",
        "                  closest_num = arr[mid + 1]\n",
        "\n",
        "            if arr[mid] < target:\n",
        "                  low = mid + 1\n",
        "            elif arr[mid] > target:\n",
        "                  high = mid - 1\n",
        "            else:\n",
        "                  \n",
        "                  \n",
        "                  return arr[mid]\n",
        "      return closest_num\n",
        "\n",
        "\n",
        "\n",
        "input_array = [2, 4, 5, 8, 12, 15, 16, 18, 23, 25, 34, 56, 76]\n",
        "y = find_closest_num(input_array, 9)\n",
        "print(y)\n"
      ]
    },
    {
      "cell_type": "code",
      "execution_count": null,
      "metadata": {},
      "outputs": [],
      "source": []
    }
  ],
  "metadata": {
    "colab": {
      "name": "ClosestNumber.ipynb",
      "provenance": []
    },
    "kernelspec": {
      "display_name": "Python 3.10.4 ('env': venv)",
      "language": "python",
      "name": "python3"
    },
    "language_info": {
      "codemirror_mode": {
        "name": "ipython",
        "version": 3
      },
      "file_extension": ".py",
      "mimetype": "text/x-python",
      "name": "python",
      "nbconvert_exporter": "python",
      "pygments_lexer": "ipython3",
      "version": "3.10.4"
    },
    "vscode": {
      "interpreter": {
        "hash": "1025366d385cff72632447cd5279af392013d973a02566bddbfd22bfe0d0e96e"
      }
    }
  },
  "nbformat": 4,
  "nbformat_minor": 0
}
